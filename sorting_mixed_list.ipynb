{
  "nbformat": 4,
  "nbformat_minor": 0,
  "metadata": {
    "colab": {
      "provenance": [],
      "authorship_tag": "ABX9TyM4PLBdufgceAuas8fvr8sW",
      "include_colab_link": true
    },
    "kernelspec": {
      "name": "python3",
      "display_name": "Python 3"
    },
    "language_info": {
      "name": "python"
    }
  },
  "cells": [
    {
      "cell_type": "markdown",
      "metadata": {
        "id": "view-in-github",
        "colab_type": "text"
      },
      "source": [
        "<a href=\"https://colab.research.google.com/github/ArmanveerKaur/sort-mixed-list/blob/main/sorting_mixed_list.ipynb\" target=\"_parent\"><img src=\"https://colab.research.google.com/assets/colab-badge.svg\" alt=\"Open In Colab\"/></a>"
      ]
    },
    {
      "cell_type": "code",
      "execution_count": 9,
      "metadata": {
        "colab": {
          "base_uri": "https://localhost:8080/"
        },
        "id": "JN3rA-IS_ipY",
        "outputId": "14fde461-6747-45e0-a49a-8caa6f84c210"
      },
      "outputs": [
        {
          "output_type": "stream",
          "name": "stdout",
          "text": [
            "The original list : ['Ram', 1, 'Shyam', 2, 'Aman', 3]\n",
            "List after mixed sorting : [1, 2, 3, 'Aman', 'Ram', 'Shyam']\n"
          ]
        }
      ],
      "source": [
        "L=[\"Ram\",1,\"Shyam\",2,\"Aman\",3]\n",
        "\n",
        "def mix(num):\n",
        "\ttry:\n",
        "\t\telement = int(num)\n",
        "\t\treturn (0, element, '')\n",
        "\texcept ValueError:\n",
        "\t\treturn (1, num, '')\n",
        "\n",
        "print(\"The original list : \" + str(L))\n",
        "\n",
        "L.sort(key = mix)\n",
        "\n",
        "print(\"List after mixed sorting : \" + str(L))\n"
      ]
    }
  ]
}